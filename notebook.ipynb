{
 "cells": [
  {
   "cell_type": "code",
   "execution_count": 1,
   "metadata": {},
   "outputs": [],
   "source": [
    "import sqlite3\n",
    "connection=sqlite3.connect('C:\\\\Users\\\\jyoti\\\\wiwino\\\\vivino (1).db')\n",
    "cursor=connection.cursor()"
   ]
  },
  {
   "cell_type": "code",
   "execution_count": 2,
   "metadata": {},
   "outputs": [
    {
     "name": "stdout",
     "output_type": "stream",
     "text": [
      "List of tables present in the database\n"
     ]
    },
    {
     "data": {
      "text/plain": [
       "[]"
      ]
     },
     "execution_count": 2,
     "metadata": {},
     "output_type": "execute_result"
    }
   ],
   "source": [
    "cursor.execute(\"\"\"select name from sqlite_master where type ='table';\"\"\")\n",
    "print('List of tables present in the database')\n",
    "table_list = [table[0] for table in cursor.fetchall()]\n",
    "table_list"
   ]
  },
  {
   "cell_type": "markdown",
   "metadata": {},
   "source": [
    "DATA EXPLORATION"
   ]
  },
  {
   "cell_type": "code",
   "execution_count": 3,
   "metadata": {},
   "outputs": [
    {
     "ename": "NameError",
     "evalue": "name 'pd' is not defined",
     "output_type": "error",
     "traceback": [
      "\u001b[1;31m---------------------------------------------------------------------------\u001b[0m",
      "\u001b[1;31mNameError\u001b[0m                                 Traceback (most recent call last)",
      "Cell \u001b[1;32mIn[3], line 1\u001b[0m\n\u001b[1;32m----> 1\u001b[0m countries\u001b[38;5;241m=\u001b[39m\u001b[43mpd\u001b[49m\u001b[38;5;241m.\u001b[39mread_sql_query(\u001b[38;5;124m\"\u001b[39m\u001b[38;5;124mselect * from countries\u001b[39m\u001b[38;5;124m\"\u001b[39m,connection)\n\u001b[0;32m      2\u001b[0m countries\n",
      "\u001b[1;31mNameError\u001b[0m: name 'pd' is not defined"
     ]
    }
   ],
   "source": [
    "\n",
    "countries=pd.read_sql_query(\"select * from countries\",connection)\n",
    "countries"
   ]
  },
  {
   "cell_type": "code",
   "execution_count": 7,
   "metadata": {},
   "outputs": [
    {
     "ename": "NameError",
     "evalue": "name 'pd' is not defined",
     "output_type": "error",
     "traceback": [
      "\u001b[1;31m---------------------------------------------------------------------------\u001b[0m",
      "\u001b[1;31mNameError\u001b[0m                                 Traceback (most recent call last)",
      "Cell \u001b[1;32mIn[7], line 1\u001b[0m\n\u001b[1;32m----> 1\u001b[0m grapes\u001b[38;5;241m=\u001b[39m\u001b[43mpd\u001b[49m\u001b[38;5;241m.\u001b[39mread_sql_query(\u001b[38;5;124m\"\u001b[39m\u001b[38;5;124mselect * from grapes\u001b[39m\u001b[38;5;124m\"\u001b[39m,connection)\n\u001b[0;32m      2\u001b[0m grapes\n",
      "\u001b[1;31mNameError\u001b[0m: name 'pd' is not defined"
     ]
    }
   ],
   "source": [
    "grapes=pd.read_sql_query(\"select * from grapes\",connection)\n",
    "grapes"
   ]
  },
  {
   "cell_type": "code",
   "execution_count": null,
   "metadata": {},
   "outputs": [],
   "source": [
    "wineries=pd.read_sql_query(\"select * from wineries\",connection)\n",
    "wineries"
   ]
  },
  {
   "cell_type": "code",
   "execution_count": null,
   "metadata": {},
   "outputs": [],
   "source": [
    "flavor_groups=pd.read_sql_query(\"select * from flavor_groups\",connection)\n",
    "flavor_groups"
   ]
  },
  {
   "cell_type": "code",
   "execution_count": null,
   "metadata": {},
   "outputs": [],
   "source": [
    "keywords=pd.read_sql_query(\"select * from keywords\",connection)\n",
    "keywords"
   ]
  },
  {
   "cell_type": "code",
   "execution_count": null,
   "metadata": {},
   "outputs": [],
   "source": [
    "regions=pd.read_sql_query(\"select * from regions\",connection)\n",
    "regions"
   ]
  },
  {
   "cell_type": "code",
   "execution_count": null,
   "metadata": {},
   "outputs": [],
   "source": [
    "most_used_grapes_per_country=pd.read_sql_query(\"select * from most_used_grapes_per_country\",connection)\n",
    "most_used_grapes_per_country"
   ]
  },
  {
   "cell_type": "code",
   "execution_count": null,
   "metadata": {},
   "outputs": [],
   "source": [
    "toplists=pd.read_sql_query(\"select * from toplists\",connection)\n",
    "toplists"
   ]
  },
  {
   "cell_type": "code",
   "execution_count": null,
   "metadata": {},
   "outputs": [],
   "source": [
    "wines=pd.read_sql_query(\"select * from wines\",connection)\n",
    "wines"
   ]
  },
  {
   "cell_type": "code",
   "execution_count": null,
   "metadata": {},
   "outputs": [],
   "source": [
    "vintages=pd.read_sql_query(\"select * from vintages\",connection)\n",
    "vintages"
   ]
  },
  {
   "cell_type": "code",
   "execution_count": null,
   "metadata": {},
   "outputs": [],
   "source": [
    "keywords_wine=pd.read_sql_query(\"select * from keywords_wine\",connection)\n",
    "keywords_wine"
   ]
  },
  {
   "cell_type": "code",
   "execution_count": null,
   "metadata": {},
   "outputs": [],
   "source": [
    "vintage_toplists_rankings=pd.read_sql_query(\"select * from vintage_toplists_rankings\",connection)\n",
    "vintage_toplists_rankings"
   ]
  },
  {
   "cell_type": "code",
   "execution_count": null,
   "metadata": {},
   "outputs": [],
   "source": [
    "for table in table_list:\n",
    "    print('\\ntable:',table)\n",
    "    column_info = connection.execute(\"PRAGMA table_info({})\".format(table))\n",
    "    for column in column_info.fetchall():\n",
    "        print(column[1:3])"
   ]
  },
  {
   "cell_type": "markdown",
   "metadata": {},
   "source": [
    "1.We want to highlight 10 wines to increase our sales. Which ones should we choose and why?"
   ]
  },
  {
   "cell_type": "code",
   "execution_count": null,
   "metadata": {},
   "outputs": [],
   "source": [
    "d.read_sql_query(\"\"\"\n",
    "    SELECT name, ratings_average \n",
    "    FROM wines \n",
    "    ORDER BY ratings_average DESC ,  ratings_count DESC\n",
    "    \n",
    "    LIMIT 10\n",
    "\"\"\", connection)"
   ]
  },
  {
   "cell_type": "code",
   "execution_count": null,
   "metadata": {},
   "outputs": [],
   "source": [
    "pd.read_sql_query(\"\"\"SELECT name, ratings_average, ratings_count\n",
    "FROM wines\n",
    "WHERE ratings_count >= 100  -- Minimum threshold for ratings count\n",
    "ORDER BY ratings_average DESC, ratings_count DESC\n",
    "LIMIT 20;\"\"\",connection)"
   ]
  },
  {
   "cell_type": "code",
   "execution_count": null,
   "metadata": {},
   "outputs": [],
   "source": [
    "pd.read_sql_query(\"\"\"SELECT name, ratings_average, ratings_count\n",
    "FROM wines\n",
    "WHERE ratings_count >= 1000\n",
    " -- Minimum threshold for ratings count\n",
    "ORDER BY ratings_average DESC, ratings_count DESC\n",
    "LIMIT 10;\"\"\",connection)"
   ]
  },
  {
   "cell_type": "markdown",
   "metadata": {},
   "source": [
    "2.We have a limited marketing budget for this year. Which country should we prioritise and why?"
   ]
  },
  {
   "cell_type": "code",
   "execution_count": null,
   "metadata": {},
   "outputs": [],
   "source": [
    "pd.read_sql_query(\"\"\"SELECT c.name AS country_name, c.users_count, AVG(v.ratings_average) AS avg_rating\n",
    "FROM countries c\n",
    "JOIN regions r ON c.code = r.country_code\n",
    "JOIN wines w ON r.id = w.region_id\n",
    "JOIN vintages v ON w.id = v.wine_id\n",
    "GROUP BY c.name, c.users_count\n",
    "HAVING c.users_count > 100000\n",
    "ORDER BY c.users_count DESC, avg_rating DESC\n",
    "LIMIT 10;\"\"\",connection)"
   ]
  },
  {
   "cell_type": "markdown",
   "metadata": {},
   "source": [
    "3.We would like to give awards to the best wineries. Come up with 3 relevant ones. Which wineries should we choose and why?"
   ]
  },
  {
   "cell_type": "code",
   "execution_count": null,
   "metadata": {},
   "outputs": [],
   "source": [
    "pd.read_sql_query( \"\"\"\n",
    "    SELECT wine_id, name, AVG(ratings_average) AS avg_rating\n",
    "    FROM vintages\n",
    "    GROUP BY wine_id\n",
    "    ORDER BY avg_rating DESC\n",
    "    LIMIT 3;\n",
    "    \"\"\",connection)"
   ]
  },
  {
   "cell_type": "code",
   "execution_count": null,
   "metadata": {},
   "outputs": [],
   "source": [
    "pd.read_sql_query( \"\"\"SELECT v.wine_id, w.name AS wine_name, AVG(v.ratings_average) AS avg_rating,\n",
    "       r.name AS region, c.name AS country_name\n",
    "FROM vintages v\n",
    "JOIN wines w ON v.wine_id = w.id\n",
    "JOIN regions r ON w.region_id = r.id\n",
    "JOIN countries c ON r.country_code = c.code\n",
    "GROUP BY v.wine_id, w.name, r.name, c.name\n",
    "ORDER BY avg_rating DESC\n",
    "LIMIT 3;\"\"\",connection)"
   ]
  },
  {
   "cell_type": "code",
   "execution_count": null,
   "metadata": {},
   "outputs": [],
   "source": [
    "pd.read_sql_query( \"\"\"SELECT w.winery_id,  \n",
    "       v.wine_id,\n",
    "       w.name AS winery_name,  \n",
    "       AVG(v.ratings_average) AS avg_rating,\n",
    "       r.name AS region,\n",
    "       c.name AS country_name\n",
    "FROM vintages v\n",
    "JOIN wines w ON v.wine_id = w.id\n",
    "JOIN regions r ON w.region_id = r.id\n",
    "JOIN countries c ON r.country_code = c.code\n",
    "JOIN wineries win ON w.winery_id = win.id  -- Join with wineries table\n",
    "GROUP BY w.winery_id, w.name, r.name, c.name\n",
    "ORDER BY avg_rating DESC\n",
    "LIMIT 10;\"\"\",connection)"
   ]
  },
  {
   "cell_type": "markdown",
   "metadata": {},
   "source": [
    "4.We detected that a big cluster of customers likes a specific combination of tastes. We identified a few keywords that match these tastes: coffee, toast, green apple, cream, and citrus (note that these keywords are case sensitive ⚠️). We would like you to find all the wines that are related to these keywords. Check that at least 10 users confirm those keywords, to ensure the accuracy of the selection. Additionally, identify an appropriate group name for this cluster."
   ]
  },
  {
   "cell_type": "code",
   "execution_count": null,
   "metadata": {},
   "outputs": [],
   "source": [
    "pd.read_sql_query(\"\"\"SELECT k.name AS keyword_name, \n",
    "       w.name AS wine_name, \n",
    "       w.user_structure_count, \n",
    "       kw.group_name,\n",
    "       kw.count AS keyword_wine_count\n",
    "FROM keywords k\n",
    "JOIN keywords_wine kw ON k.id = kw.keyword_id\n",
    "JOIN wines w ON w.id = kw.wine_id\n",
    "WHERE k.name IN ('coffee', 'toast', 'green apple', 'cream', 'citrus')\n",
    "GROUP BY k.name, w.name, w.user_structure_count, kw.group_name, kw.count\n",
    "HAVING w.user_structure_count >= 10\n",
    "   AND keyword_wine_count >= 10;\"\"\",connection)"
   ]
  },
  {
   "cell_type": "code",
   "execution_count": null,
   "metadata": {},
   "outputs": [],
   "source": [
    "pd.read_sql_query(\"\"\"SELECT GROUP_CONCAT(k.name) AS keyword_names,\n",
    "       w.name AS wine_name,\n",
    "       kw.group_name,\n",
    "       kw.count AS keyword_wine_count\n",
    "FROM keywords k\n",
    "JOIN keywords_wine kw ON k.id = kw.keyword_id\n",
    "JOIN wines w ON w.id = kw.wine_id\n",
    "WHERE k.name IN ('coffee', 'toast', 'green apple', 'cream', 'citrus')\n",
    "\"\"\",connection)"
   ]
  },
  {
   "cell_type": "code",
   "execution_count": null,
   "metadata": {},
   "outputs": [],
   "source": [
    "pd.read_sql_query(\"\"\"SELECT\n",
    "                    wines.id AS wine_id,\n",
    "                    wines.name AS wine_name,\n",
    "                    COUNT(DISTINCT(keywords.name)) AS tastes_count,\n",
    "                    keywords_wine.count AS number_of_users_confirm_keywords\n",
    "                FROM\n",
    "                    keywords\n",
    "                JOIN\n",
    "                    keywords_wine ON keywords.id = keywords_wine.keyword_id\n",
    "                JOIN\n",
    "                    wines ON keywords_wine.wine_id = wines.id\n",
    "                WHERE\n",
    "                    LOWER(keywords.name) IN ('coffee', 'toast', 'green apple', 'cream', 'citrus')\n",
    "                    AND keywords_wine.count > 10\n",
    "                GROUP BY\n",
    "                    wines.id,\n",
    "                    wines.name\n",
    "                HAVING \n",
    "                    tastes_count = 5;\"\"\",connection)"
   ]
  },
  {
   "cell_type": "markdown",
   "metadata": {},
   "source": [
    "5.We would like to select wines that are easy to find all over the world. Find the top 3 most common grapes all over the world and for each grape, give us the the 5 best rated wines."
   ]
  },
  {
   "cell_type": "code",
   "execution_count": null,
   "metadata": {},
   "outputs": [],
   "source": [
    "pd.read_sql_query(\"\"\"\n",
    "    SELECT g.name AS grape_name, g.id AS grape_id, SUM(mugpc.wines_count) AS total_wines_count\n",
    "FROM grapes g\n",
    "JOIN most_used_grapes_per_country mugpc ON g.id = mugpc.grape_id\n",
    "GROUP BY g.name, g.id\n",
    "ORDER BY total_wines_count DESC\n",
    "LIMIT 3;\"\"\",connection)"
   ]
  },
  {
   "cell_type": "code",
   "execution_count": null,
   "metadata": {},
   "outputs": [],
   "source": [
    "pd.read_sql_query(\"\"\"WITH TopGrapes AS (\n",
    "    SELECT g.name AS grape_name, mugpc.grape_id, COUNT(*) AS total_wines_count\n",
    "    FROM most_used_grapes_per_country mugpc\n",
    "    JOIN grapes g ON mugpc.grape_id = g.id\n",
    "    GROUP BY g.name, mugpc.grape_id\n",
    "    ORDER BY total_wines_count DESC\n",
    "    LIMIT 3\n",
    "),\n",
    "TopWines AS (\n",
    "    SELECT w.name AS wine_name, w.ratings_average, ROW_NUMBER() OVER (PARTITION BY mugpc.grape_id ORDER BY w.ratings_average DESC) AS rank, mugpc.grape_id\n",
    "    FROM wines w\n",
    "    JOIN regions r ON w.region_id = r.id\n",
    "    JOIN most_used_grapes_per_country mugpc ON r.country_code = mugpc.country_code\n",
    "    WHERE mugpc.grape_id IN (SELECT grape_id FROM TopGrapes)\n",
    ")\n",
    "SELECT tg.grape_name, tw.wine_name, tw.ratings_average\n",
    "FROM TopGrapes tg\n",
    "JOIN TopWines tw ON tg.grape_id = tw.grape_id\n",
    "WHERE tw.rank <= 5\n",
    "ORDER BY tg.grape_name, tw.ratings_average DESC;\"\"\",connection)"
   ]
  },
  {
   "cell_type": "code",
   "execution_count": null,
   "metadata": {},
   "outputs": [],
   "source": [
    "import pandas as pd\n",
    "import matplotlib.pyplot as plt\n",
    "\n",
    "# Execute the SQL query and store the results in a DataFrame\n",
    "df = pd.read_sql_query(\"\"\"\n",
    "    WITH TopGrapes AS (\n",
    "        SELECT g.name AS grape_name, mugpc.grape_id, COUNT(*) AS total_wines_count\n",
    "        FROM most_used_grapes_per_country mugpc\n",
    "        JOIN grapes g ON mugpc.grape_id = g.id\n",
    "        GROUP BY g.name, mugpc.grape_id\n",
    "        ORDER BY total_wines_count DESC\n",
    "        LIMIT 3\n",
    "    ),\n",
    "    TopWines AS (\n",
    "        SELECT w.name AS wine_name, w.ratings_average, ROW_NUMBER() OVER (PARTITION BY mugpc.grape_id ORDER BY w.ratings_average DESC) AS rank, mugpc.grape_id\n",
    "        FROM wines w\n",
    "        JOIN regions r ON w.region_id = r.id\n",
    "        JOIN most_used_grapes_per_country mugpc ON r.country_code = mugpc.country_code\n",
    "        WHERE mugpc.grape_id IN (SELECT grape_id FROM TopGrapes)\n",
    "    )\n",
    "    SELECT tg.grape_name, tw.wine_name, tw.ratings_average\n",
    "    FROM TopGrapes tg\n",
    "    JOIN TopWines tw ON tg.grape_id = tw.grape_id\n",
    "    WHERE tw.rank <= 5\n",
    "    ORDER BY tg.grape_name, tw.ratings_average DESC;\n",
    "\"\"\", connection)\n",
    "\n",
    "# Plotting\n",
    "plt.figure(figsize=(12, 8))\n",
    "\n",
    "# Iterate over each grape_name in the DataFrame and plot the wine_name and ratings_average\n",
    "for grape_name, group_df in df.groupby('grape_name'):\n",
    "    plt.barh(group_df['wine_name'], group_df['ratings_average'], label=grape_name)\n",
    "\n",
    "plt.xlabel('Ratings Average')\n",
    "plt.ylabel('Wine Name')\n",
    "plt.title('Top 5 Wines for Top 3 Grapes')\n",
    "plt.legend(title='Grape Name', loc='upper right')\n",
    "plt.gca().invert_yaxis()\n",
    "plt.show()"
   ]
  },
  {
   "cell_type": "markdown",
   "metadata": {},
   "source": [
    "6.We would like to create a country leaderboard. Come up with a visual that shows the average wine rating for each country. Do the same for the vintages."
   ]
  },
  {
   "cell_type": "code",
   "execution_count": null,
   "metadata": {},
   "outputs": [],
   "source": [
    "import matplotlib.pyplot as plt\n",
    "\n",
    "# Read data from SQL query\n",
    "df = pd.read_sql_query(\"\"\"\n",
    "    SELECT c.name AS country_name, AVG(w.ratings_average) AS avg_rating\n",
    "    FROM wines w\n",
    "    JOIN regions r ON w.region_id = r.id\n",
    "    JOIN countries c ON r.country_code = c.code\n",
    "    GROUP BY c.name\n",
    "    ORDER BY avg_rating DESC;\n",
    "\"\"\", connection)\n",
    "\n",
    "# Plotting\n",
    "plt.figure(figsize=(10, 6))\n",
    "bars = plt.barh(df['country_name'], df['avg_rating'], color='skyblue')\n",
    "\n",
    "# Annotate each bar with its average rating\n",
    "for bar, rating in zip(bars, df['avg_rating']):\n",
    "    plt.text(bar.get_width(), bar.get_y() + bar.get_height() / 2, f'{rating:.2f}', va='center')\n",
    "\n",
    "plt.xlabel('Average Rating')\n",
    "plt.ylabel('Country')\n",
    "plt.title('Average Wine Rating by Country')\n",
    "plt.xlim(0, 5)  # Set x-axis limits\n",
    "plt.gca().invert_yaxis()  # Invert y-axis to display countries from top to bottom\n",
    "plt.show()"
   ]
  },
  {
   "cell_type": "markdown",
   "metadata": {},
   "source": [
    "for vintages"
   ]
  },
  {
   "cell_type": "code",
   "execution_count": null,
   "metadata": {},
   "outputs": [],
   "source": [
    "import matplotlib.pyplot as plt\n",
    "\n",
    "# Read data from SQL query\n",
    "df1 = pd.read_sql_query(\"\"\"\n",
    "    SELECT c.name AS country_name, AVG(v.ratings_average) AS avg_rating\n",
    "    FROM vintages v\n",
    "    JOIN wines w ON v.wine_id=w.id\n",
    "    JOIN regions r ON w.region_id = r.id\n",
    "    JOIN countries c ON r.country_code = c.code\n",
    "    GROUP BY c.name\n",
    "    ORDER BY avg_rating DESC;\n",
    "\"\"\", connection)\n",
    "\n",
    "# Plotting\n",
    "plt.figure(figsize=(10, 6))\n",
    "bars = plt.barh(df1['country_name'], df1['avg_rating'], color='lightgreen')\n",
    "\n",
    "# Annotate each bar with its average rating\n",
    "for bar, rating in zip(bars, df1['avg_rating']):\n",
    "    plt.text(bar.get_width(), bar.get_y() + bar.get_height() / 2, f'{rating:.2f}', va='center')\n",
    "\n",
    "plt.xlabel('Average Rating')\n",
    "plt.ylabel('Country')\n",
    "plt.title('Average Vintage Rating by Country')\n",
    "plt.xlim(0, 5)  # Set x-axis limits\n",
    "plt.gca().invert_yaxis()  # Invert y-axis to display countries from top to bottom\n",
    "plt.show()"
   ]
  },
  {
   "cell_type": "markdown",
   "metadata": {},
   "source": [
    "7.One of our VIP clients likes Cabernet Sauvignon and would like our top 5 recommendations. Which wines would you recommend to him?"
   ]
  },
  {
   "cell_type": "code",
   "execution_count": null,
   "metadata": {},
   "outputs": [],
   "source": [
    "pd.read_sql_query(\"\"\"SELECT w.name AS wine_name, w.ratings_average, r.country_code, r.name AS region, g.name AS grape_name\n",
    "FROM grapes g\n",
    "JOIN most_used_grapes_per_country m ON g.id = m.grape_id\n",
    "JOIN regions r ON m.country_code = r.country_code\n",
    "JOIN wines w ON r.id = w.region_id\n",
    "WHERE g.name = 'Cabernet Sauvignon'\n",
    "ORDER BY w.ratings_average DESC\n",
    "LIMIT 5;\"\"\",connection)"
   ]
  },
  {
   "cell_type": "code",
   "execution_count": null,
   "metadata": {},
   "outputs": [],
   "source": [
    "import seaborn as sns\n",
    "import matplotlib.pyplot as plt\n",
    "df=pd.read_sql_query(\"\"\"SELECT w.name AS wine_name, w.ratings_average, r.country_code, r.name AS region, g.name AS grape_name\n",
    "FROM grapes g\n",
    "JOIN most_used_grapes_per_country m ON g.id = m.grape_id\n",
    "JOIN regions r ON m.country_code = r.country_code\n",
    "JOIN wines w ON r.id = w.region_id\n",
    "WHERE g.name = 'Cabernet Sauvignon'\n",
    "ORDER BY w.ratings_average DESC\n",
    "LIMIT 5;\"\"\",connection)\n",
    "\n",
    "# Set Seaborn style\n",
    "sns.set_style(\"whitegrid\")\n",
    "\n",
    "# Create the bar plot\n",
    "plt.figure(figsize=(10, 6))\n",
    "sns.barplot(x='wine_name', y='ratings_average', hue='wine_name', data=df, palette='viridis', dodge=False)\n",
    "plt.xlabel('Wine Name', fontsize=12)\n",
    "plt.ylabel('Ratings Average', fontsize=12)\n",
    "plt.title('Top 5 Cabernet Sauvignon Wines by Ratings Average', fontsize=14)\n",
    "plt.xticks(rotation=45, ha='right', fontsize=10)  # Rotate x-axis labels for better readability\n",
    "plt.yticks(fontsize=10)\n",
    "plt.legend(title=None)  # Suppress the legend\n",
    "plt.tight_layout()\n",
    "plt.show()"
   ]
  }
 ],
 "metadata": {
  "kernelspec": {
   "display_name": "Python 3",
   "language": "python",
   "name": "python3"
  },
  "language_info": {
   "codemirror_mode": {
    "name": "ipython",
    "version": 3
   },
   "file_extension": ".py",
   "mimetype": "text/x-python",
   "name": "python",
   "nbconvert_exporter": "python",
   "pygments_lexer": "ipython3",
   "version": "3.12.1"
  }
 },
 "nbformat": 4,
 "nbformat_minor": 2
}
